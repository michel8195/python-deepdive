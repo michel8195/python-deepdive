{
 "cells": [
  {
   "cell_type": "code",
   "execution_count": 11,
   "metadata": {},
   "outputs": [],
   "source": [
    "class CityIterator:\n",
    "    \n",
    "    def __init__(self, n):\n",
    "        self.n = n\n",
    "        self.i = 0\n",
    "        self.names = ['bahia'] * n\n",
    "    \n",
    "    def __next__(self):\n",
    "        if self.i >= self.n:\n",
    "            raise StopIteration\n",
    "        else:\n",
    "            ix = self.i\n",
    "            self.i += 1 \n",
    "            return self.names[ix]\n",
    "        \n",
    "    def __iter__(self):\n",
    "        return self\n",
    "    \n",
    "\n",
    "class CityIterable:\n",
    "    def __init__(self, n):\n",
    "        self.n = n\n",
    "    \n",
    "    def __iter__(self):\n",
    "        return CityIterator(self.n)\n",
    "        "
   ]
  },
  {
   "cell_type": "code",
   "execution_count": 12,
   "metadata": {},
   "outputs": [
    {
     "name": "stdout",
     "output_type": "stream",
     "text": [
      "bahia\n",
      "bahia\n",
      "bahia\n",
      "bahia\n",
      "bahia\n"
     ]
    }
   ],
   "source": [
    "cities = CityIterator(5)\n",
    "for city in cities:\n",
    "    print(city)"
   ]
  },
  {
   "cell_type": "code",
   "execution_count": 13,
   "metadata": {},
   "outputs": [],
   "source": [
    "for city in cities:\n",
    "    print(city)"
   ]
  },
  {
   "cell_type": "code",
   "execution_count": 14,
   "metadata": {},
   "outputs": [],
   "source": [
    "city_iterable = CityIterable(5)\n",
    "\n"
   ]
  },
  {
   "cell_type": "code",
   "execution_count": 15,
   "metadata": {},
   "outputs": [
    {
     "name": "stdout",
     "output_type": "stream",
     "text": [
      "bahia\n",
      "bahia\n",
      "bahia\n",
      "bahia\n",
      "bahia\n"
     ]
    }
   ],
   "source": [
    "for city in city_iterable:\n",
    "    print(city)"
   ]
  },
  {
   "cell_type": "code",
   "execution_count": 16,
   "metadata": {},
   "outputs": [
    {
     "name": "stdout",
     "output_type": "stream",
     "text": [
      "bahia\n",
      "bahia\n",
      "bahia\n",
      "bahia\n",
      "bahia\n"
     ]
    }
   ],
   "source": [
    "for city in city_iterable:\n",
    "    print(city)"
   ]
  },
  {
   "cell_type": "code",
   "execution_count": 23,
   "metadata": {},
   "outputs": [],
   "source": [
    "class CityIterable:\n",
    "    def __init__(self, n):\n",
    "        self.n = n\n",
    "        self.names = ['bahia'] * n\n",
    "    \n",
    "    def __iter__(self):\n",
    "        return self.CityIterator(self)\n",
    "    \n",
    "    class CityIterator:\n",
    "        \n",
    "        def __init__(self, iterable):\n",
    "            self.i = 0\n",
    "            self.n = iterable.n\n",
    "            self.names = iterable.names\n",
    "        \n",
    "        def __next__(self):\n",
    "            if self.i >= self.n:\n",
    "                raise StopIteration\n",
    "            else:\n",
    "                ix = self.i\n",
    "                self.i += 1 \n",
    "                return self.names[ix]\n",
    "            \n",
    "        def __iter__(self):\n",
    "            return self"
   ]
  },
  {
   "cell_type": "code",
   "execution_count": 24,
   "metadata": {},
   "outputs": [],
   "source": [
    "cities = CityIterable(10)"
   ]
  },
  {
   "cell_type": "code",
   "execution_count": 22,
   "metadata": {},
   "outputs": [
    {
     "name": "stdout",
     "output_type": "stream",
     "text": [
      "bahia\n",
      "bahia\n",
      "bahia\n",
      "bahia\n",
      "bahia\n",
      "bahia\n",
      "bahia\n",
      "bahia\n",
      "bahia\n",
      "bahia\n"
     ]
    }
   ],
   "source": [
    "for city in cities:\n",
    "    print(city)"
   ]
  },
  {
   "cell_type": "code",
   "execution_count": null,
   "metadata": {},
   "outputs": [],
   "source": []
  }
 ],
 "metadata": {
  "kernelspec": {
   "display_name": "Python 3.7.6 ('venv': venv)",
   "language": "python",
   "name": "python3"
  },
  "language_info": {
   "codemirror_mode": {
    "name": "ipython",
    "version": 3
   },
   "file_extension": ".py",
   "mimetype": "text/x-python",
   "name": "python",
   "nbconvert_exporter": "python",
   "pygments_lexer": "ipython3",
   "version": "3.7.6"
  },
  "orig_nbformat": 4,
  "vscode": {
   "interpreter": {
    "hash": "c5f71ea26507e862150c9cc6b197dd0a705c77ce2b2ed5a3a25d335df60b288f"
   }
  }
 },
 "nbformat": 4,
 "nbformat_minor": 2
}
